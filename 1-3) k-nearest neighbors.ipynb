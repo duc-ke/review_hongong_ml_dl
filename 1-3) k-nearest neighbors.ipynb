{
 "cells": [
  {
   "cell_type": "markdown",
   "id": "195b0f78",
   "metadata": {},
   "source": [
    "# 간단한 머신러닝 시작\n",
    "* 생선 이진 분류 문제를 k-near(k-최근접 이웃 알고리즘)을 사용하여 풀어보고 알고리즘을 이해한다.\n",
    "* scikit learn 이용하기 위해 x_data(2차원), y_data(1차원) 생성\n",
    "* scatter plot (matplotlib)"
   ]
  },
  {
   "cell_type": "code",
   "execution_count": 1,
   "id": "0f0611d0",
   "metadata": {},
   "outputs": [],
   "source": [
    "# 도미 데이터와 방어데이터\n",
    "bream_length = [25.4, 26.3, 26.5, 29.0, 29.0, 29.7, 29.7, 30.0, 30.0, 30.7, 31.0, 31.0, 31.5, 32.0, 32.0, 32.0, 33.0, 33.0, 33.5, 33.5, 34.0, 34.0, 34.5, 35.0, 35.0, 35.0, 35.0, 36.0, 36.0, 37.0, 38.5, 38.5, 39.5, 41.0, 41.0]\n",
    "bream_weight = [242.0, 290.0, 340.0, 363.0, 430.0, 450.0, 500.0, 390.0, 450.0, 500.0, 475.0, 500.0, 500.0, 340.0, 600.0, 600.0, 700.0, 700.0, 610.0, 650.0, 575.0, 685.0, 620.0, 680.0, 700.0, 725.0, 720.0, 714.0, 850.0, 1000.0, 920.0, 955.0, 925.0, 975.0, 950.0]\n",
    "\n",
    "smelt_length = [9.8, 10.5, 10.6, 11.0, 11.2, 11.3, 11.8, 11.8, 12.0, 12.2, 12.4, 13.0, 14.3, 15.0]\n",
    "smelt_weight = [6.7, 7.5, 7.0, 9.7, 9.8, 8.7, 10.0, 9.9, 9.8, 12.2, 13.4, 12.2, 19.7, 19.9]"
   ]
  },
  {
   "cell_type": "markdown",
   "id": "ade2b83d",
   "metadata": {},
   "source": [
    "## 1. scatter"
   ]
  },
  {
   "cell_type": "code",
   "execution_count": 6,
   "id": "f5d670ad",
   "metadata": {},
   "outputs": [
    {
     "data": {
      "image/png": "[encoded data removed]",
      "text/plain": [
       "<Figure size 432x288 with 1 Axes>"
      ]
     },
     "metadata": {
      "needs_background": "light"
     },
     "output_type": "display_data"
    }
   ],
   "source": [
    "# scatter plot\n",
    "import matplotlib.pyplot as plt\n",
    "\n",
    "# Tip. 2개의 다른데이터셋의 산점도를 그리는건 연속으로 scatter를 쓰면 된다.\n",
    "plt.scatter(bream_length, bream_weight)\n",
    "plt.scatter(smelt_length, smelt_weight)\n",
    "plt.xlabel(\"length\")\n",
    "plt.ylabel(\"weight\")\n",
    "plt.show()"
   ]
  },
  {
   "cell_type": "markdown",
   "id": "bc450c6c",
   "metadata": {},
   "source": [
    "**Tip. 2개의 다른 데이터셋을 색깔이 다른 산점도 그리기**\n",
    "\n",
    "연속으로 scatter를 쓰면 된다."
   ]
  },
  {
   "cell_type": "code",
   "execution_count": null,
   "id": "3623d8f0",
   "metadata": {},
   "outputs": [],
   "source": []
  },
  {
   "cell_type": "markdown",
   "id": "f22bf55c",
   "metadata": {},
   "source": [
    "## 2. ML - k-Nearest Neighbors\n",
    "* 학습시 2차원 리스트를 만들어야 함\n",
    "* fit, score(acc.), pred"
   ]
  },
  {
   "cell_type": "code",
   "execution_count": 8,
   "id": "c92a207e",
   "metadata": {},
   "outputs": [
    {
     "data": {
      "text/plain": [
       "[[25.4, 242.0],\n",
       " [26.3, 290.0],\n",
       " [26.5, 340.0],\n",
       " [29.0, 363.0],\n",
       " [29.0, 430.0],\n",
       " [29.7, 450.0],\n",
       " [29.7, 500.0],\n",
       " [30.0, 390.0],\n",
       " [30.0, 450.0],\n",
       " [30.7, 500.0],\n",
       " [31.0, 475.0],\n",
       " [31.0, 500.0],\n",
       " [31.5, 500.0],\n",
       " [32.0, 340.0],\n",
       " [32.0, 600.0],\n",
       " [32.0, 600.0],\n",
       " [33.0, 700.0],\n",
       " [33.0, 700.0],\n",
       " [33.5, 610.0],\n",
       " [33.5, 650.0],\n",
       " [34.0, 575.0],\n",
       " [34.0, 685.0],\n",
       " [34.5, 620.0],\n",
       " [35.0, 680.0],\n",
       " [35.0, 700.0],\n",
       " [35.0, 725.0],\n",
       " [35.0, 720.0],\n",
       " [36.0, 714.0],\n",
       " [36.0, 850.0],\n",
       " [37.0, 1000.0],\n",
       " [38.5, 920.0],\n",
       " [38.5, 955.0],\n",
       " [39.5, 925.0],\n",
       " [41.0, 975.0],\n",
       " [41.0, 950.0],\n",
       " [9.8, 6.7],\n",
       " [10.5, 7.5],\n",
       " [10.6, 7.0],\n",
       " [11.0, 9.7],\n",
       " [11.2, 9.8],\n",
       " [11.3, 8.7],\n",
       " [11.8, 10.0],\n",
       " [11.8, 9.9],\n",
       " [12.0, 9.8],\n",
       " [12.2, 12.2],\n",
       " [12.4, 13.4],\n",
       " [13.0, 12.2],\n",
       " [14.3, 19.7],\n",
       " [15.0, 19.9]]"
      ]
     },
     "execution_count": 8,
     "metadata": {},
     "output_type": "execute_result"
    }
   ],
   "source": [
    "# scikit-learn을 위해 x_data 2차원 데이터셋 생성\n",
    "length = bream_length + smelt_length\n",
    "weight = bream_weight + smelt_weight\n",
    "\n",
    "fish_data = [[a, b] for a, b in zip(length, weight)]\n",
    "fish_data"
   ]
  },
  {
   "cell_type": "code",
   "execution_count": 9,
   "id": "6212e0c0",
   "metadata": {},
   "outputs": [
    {
     "data": {
      "text/plain": [
       "[1,\n",
       " 1,\n",
       " 1,\n",
       " 1,\n",
       " 1,\n",
       " 1,\n",
       " 1,\n",
       " 1,\n",
       " 1,\n",
       " 1,\n",
       " 1,\n",
       " 1,\n",
       " 1,\n",
       " 1,\n",
       " 1,\n",
       " 1,\n",
       " 1,\n",
       " 1,\n",
       " 1,\n",
       " 1,\n",
       " 1,\n",
       " 1,\n",
       " 1,\n",
       " 1,\n",
       " 1,\n",
       " 1,\n",
       " 1,\n",
       " 1,\n",
       " 1,\n",
       " 1,\n",
       " 1,\n",
       " 1,\n",
       " 1,\n",
       " 1,\n",
       " 1,\n",
       " 0,\n",
       " 0,\n",
       " 0,\n",
       " 0,\n",
       " 0,\n",
       " 0,\n",
       " 0,\n",
       " 0,\n",
       " 0,\n",
       " 0,\n",
       " 0,\n",
       " 0,\n",
       " 0,\n",
       " 0]"
      ]
     },
     "execution_count": 9,
     "metadata": {},
     "output_type": "execute_result"
    }
   ],
   "source": [
    "# y_data 생성 - 도미 35마리, 빙어 14마리, 총 49마리\n",
    "target = [1]*35 + [0]*14\n",
    "target"
   ]
  },
  {
   "cell_type": "code",
   "execution_count": 18,
   "id": "94d5e493",
   "metadata": {},
   "outputs": [
    {
     "data": {
      "text/plain": [
       "((49, 2), (49,))"
      ]
     },
     "execution_count": 18,
     "metadata": {},
     "output_type": "execute_result"
    }
   ],
   "source": [
    "import numpy as np\n",
    "# x_data : 2차원, y_data: 1차원\n",
    "np.array(fish_data).shape, np.array(target).shape"
   ]
  },
  {
   "cell_type": "code",
   "execution_count": 10,
   "id": "02c0553e",
   "metadata": {},
   "outputs": [
    {
     "data": {
      "text/html": [
       "<style>#sk-container-id-1 {color: black;background-color: white;}#sk-container-id-1 pre{padding: 0;}#sk-container-id-1 div.sk-toggleable {background-color: white;}#sk-container-id-1 label.sk-toggleable__label {cursor: pointer;display: block;width: 100%;margin-bottom: 0;padding: 0.3em;box-sizing: border-box;text-align: center;}#sk-container-id-1 label.sk-toggleable__label-arrow:before {content: \"▸\";float: left;margin-right: 0.25em;color: #696969;}#sk-container-id-1 label.sk-toggleable__label-arrow:hover:before {color: black;}#sk-container-id-1 div.sk-estimator:hover label.sk-toggleable__label-arrow:before {color: black;}#sk-container-id-1 div.sk-toggleable__content {max-height: 0;max-width: 0;overflow: hidden;text-align: left;background-color: #f0f8ff;}#sk-container-id-1 div.sk-toggleable__content pre {margin: 0.2em;color: black;border-radius: 0.25em;background-color: #f0f8ff;}#sk-container-id-1 input.sk-toggleable__control:checked~div.sk-toggleable__content {max-height: 200px;max-width: 100%;overflow: auto;}#sk-container-id-1 input.sk-toggleable__control:checked~label.sk-toggleable__label-arrow:before {content: \"▾\";}#sk-container-id-1 div.sk-estimator input.sk-toggleable__control:checked~label.sk-toggleable__label {background-color: #d4ebff;}#sk-container-id-1 div.sk-label input.sk-toggleable__control:checked~label.sk-toggleable__label {background-color: #d4ebff;}#sk-container-id-1 input.sk-hidden--visually {border: 0;clip: rect(1px 1px 1px 1px);clip: rect(1px, 1px, 1px, 1px);height: 1px;margin: -1px;overflow: hidden;padding: 0;position: absolute;width: 1px;}#sk-container-id-1 div.sk-estimator {font-family: monospace;background-color: #f0f8ff;border: 1px dotted black;border-radius: 0.25em;box-sizing: border-box;margin-bottom: 0.5em;}#sk-container-id-1 div.sk-estimator:hover {background-color: #d4ebff;}#sk-container-id-1 div.sk-parallel-item::after {content: \"\";width: 100%;border-bottom: 1px solid gray;flex-grow: 1;}#sk-container-id-1 div.sk-label:hover label.sk-toggleable__label {background-color: #d4ebff;}#sk-container-id-1 div.sk-serial::before {content: \"\";position: absolute;border-left: 1px solid gray;box-sizing: border-box;top: 0;bottom: 0;left: 50%;z-index: 0;}#sk-container-id-1 div.sk-serial {display: flex;flex-direction: column;align-items: center;background-color: white;padding-right: 0.2em;padding-left: 0.2em;position: relative;}#sk-container-id-1 div.sk-item {position: relative;z-index: 1;}#sk-container-id-1 div.sk-parallel {display: flex;align-items: stretch;justify-content: center;background-color: white;position: relative;}#sk-container-id-1 div.sk-item::before, #sk-container-id-1 div.sk-parallel-item::before {content: \"\";position: absolute;border-left: 1px solid gray;box-sizing: border-box;top: 0;bottom: 0;left: 50%;z-index: -1;}#sk-container-id-1 div.sk-parallel-item {display: flex;flex-direction: column;z-index: 1;position: relative;background-color: white;}#sk-container-id-1 div.sk-parallel-item:first-child::after {align-self: flex-end;width: 50%;}#sk-container-id-1 div.sk-parallel-item:last-child::after {align-self: flex-start;width: 50%;}#sk-container-id-1 div.sk-parallel-item:only-child::after {width: 0;}#sk-container-id-1 div.sk-dashed-wrapped {border: 1px dashed gray;margin: 0 0.4em 0.5em 0.4em;box-sizing: border-box;padding-bottom: 0.4em;background-color: white;}#sk-container-id-1 div.sk-label label {font-family: monospace;font-weight: bold;display: inline-block;line-height: 1.2em;}#sk-container-id-1 div.sk-label-container {text-align: center;}#sk-container-id-1 div.sk-container {/* jupyter's `normalize.less` sets `[hidden] { display: none; }` but bootstrap.min.css set `[hidden] { display: none !important; }` so we also need the `!important` here to be able to override the default hidden behavior on the sphinx rendered scikit-learn.org. See: https://github.com/scikit-learn/scikit-learn/issues/21755 */display: inline-block !important;position: relative;}#sk-container-id-1 div.sk-text-repr-fallback {display: none;}</style><div id=\"sk-container-id-1\" class=\"sk-top-container\"><div class=\"sk-text-repr-fallback\"><pre>KNeighborsClassifier()</pre><b>In a Jupyter environment, please rerun this cell to show the HTML representation or trust the notebook. <br />On GitHub, the HTML representation is unable to render, please try loading this page with nbviewer.org.</b></div><div class=\"sk-container\" hidden><div class=\"sk-item\"><div class=\"sk-estimator sk-toggleable\"><input class=\"sk-toggleable__control sk-hidden--visually\" id=\"sk-estimator-id-1\" type=\"checkbox\" checked><label for=\"sk-estimator-id-1\" class=\"sk-toggleable__label sk-toggleable__label-arrow\">KNeighborsClassifier</label><div class=\"sk-toggleable__content\"><pre>KNeighborsClassifier()</pre></div></div></div></div></div>"
      ],
      "text/plain": [
       "KNeighborsClassifier()"
      ]
     },
     "execution_count": 10,
     "metadata": {},
     "output_type": "execute_result"
    }
   ],
   "source": [
    "from sklearn.neighbors import KNeighborsClassifier\n",
    "\n",
    "model = KNeighborsClassifier()\n",
    "model.fit(fish_data, target)  # x_data, y_data"
   ]
  },
  {
   "cell_type": "code",
   "execution_count": 11,
   "id": "df4f033a",
   "metadata": {},
   "outputs": [
    {
     "data": {
      "text/plain": [
       "1.0"
      ]
     },
     "execution_count": 11,
     "metadata": {},
     "output_type": "execute_result"
    }
   ],
   "source": [
    "# accuracy 확인\n",
    "model.score(fish_data, target)"
   ]
  },
  {
   "cell_type": "code",
   "execution_count": 13,
   "id": "9d07ddfb",
   "metadata": {},
   "outputs": [
    {
     "data": {
      "text/plain": [
       "array([1])"
      ]
     },
     "execution_count": 13,
     "metadata": {},
     "output_type": "execute_result"
    }
   ],
   "source": [
    "# 새로운 데이터 predict\n",
    "# 주의) 데이터 1개라도 shape은 같아야 함. 2차원 데이터셋으로 들어가야함\n",
    "model.predict([[30, 600]])"
   ]
  },
  {
   "cell_type": "markdown",
   "id": "020685b5",
   "metadata": {},
   "source": [
    "### K-nearest Neighbor 알고리즘 이해\n",
    "* 이건 사실 알고리즘이라고 부르기도 민망함.\n",
    "* 내부에 x_data, y_data를 저장해두고 새로운데이터가 오면 직선거리를 각 점들과 계산한 뒤, 가장가까운 애들 몇개의 레이블을 확인하여 다수결로 배정한다고 생각하면 된다.\n",
    "* 따라서, 데이터가 아주 많은 경우 직선거리 계산에 메모리가 많이 필요하고 시간 오래걸림.\n",
    "* hyperparams - n_neighbor 다수결로 참고할 가까운 이웃수(default 5)"
   ]
  },
  {
   "cell_type": "code",
   "execution_count": 19,
   "id": "f6dd4404",
   "metadata": {},
   "outputs": [
    {
     "data": {
      "text/plain": [
       "(array([[  25.4,  242. ],\n",
       "        [  26.3,  290. ],\n",
       "        [  26.5,  340. ],\n",
       "        [  29. ,  363. ],\n",
       "        [  29. ,  430. ],\n",
       "        [  29.7,  450. ],\n",
       "        [  29.7,  500. ],\n",
       "        [  30. ,  390. ],\n",
       "        [  30. ,  450. ],\n",
       "        [  30.7,  500. ],\n",
       "        [  31. ,  475. ],\n",
       "        [  31. ,  500. ],\n",
       "        [  31.5,  500. ],\n",
       "        [  32. ,  340. ],\n",
       "        [  32. ,  600. ],\n",
       "        [  32. ,  600. ],\n",
       "        [  33. ,  700. ],\n",
       "        [  33. ,  700. ],\n",
       "        [  33.5,  610. ],\n",
       "        [  33.5,  650. ],\n",
       "        [  34. ,  575. ],\n",
       "        [  34. ,  685. ],\n",
       "        [  34.5,  620. ],\n",
       "        [  35. ,  680. ],\n",
       "        [  35. ,  700. ],\n",
       "        [  35. ,  725. ],\n",
       "        [  35. ,  720. ],\n",
       "        [  36. ,  714. ],\n",
       "        [  36. ,  850. ],\n",
       "        [  37. , 1000. ],\n",
       "        [  38.5,  920. ],\n",
       "        [  38.5,  955. ],\n",
       "        [  39.5,  925. ],\n",
       "        [  41. ,  975. ],\n",
       "        [  41. ,  950. ],\n",
       "        [   9.8,    6.7],\n",
       "        [  10.5,    7.5],\n",
       "        [  10.6,    7. ],\n",
       "        [  11. ,    9.7],\n",
       "        [  11.2,    9.8],\n",
       "        [  11.3,    8.7],\n",
       "        [  11.8,   10. ],\n",
       "        [  11.8,    9.9],\n",
       "        [  12. ,    9.8],\n",
       "        [  12.2,   12.2],\n",
       "        [  12.4,   13.4],\n",
       "        [  13. ,   12.2],\n",
       "        [  14.3,   19.7],\n",
       "        [  15. ,   19.9]]),\n",
       " array([1, 1, 1, 1, 1, 1, 1, 1, 1, 1, 1, 1, 1, 1, 1, 1, 1, 1, 1, 1, 1, 1,\n",
       "        1, 1, 1, 1, 1, 1, 1, 1, 1, 1, 1, 1, 1, 0, 0, 0, 0, 0, 0, 0, 0, 0,\n",
       "        0, 0, 0, 0, 0]))"
      ]
     },
     "execution_count": 19,
     "metadata": {},
     "output_type": "execute_result"
    }
   ],
   "source": [
    "# fit으로 학습시 모델을 만든다기보단 메모리에 아래 처럼 데이터를 저장한다. 그게 본질.\n",
    "model._fit_X, model._y"
   ]
  },
  {
   "cell_type": "code",
   "execution_count": 21,
   "id": "5953a52e",
   "metadata": {},
   "outputs": [
    {
     "data": {
      "text/plain": [
       "0.7142857142857143"
      ]
     },
     "execution_count": 21,
     "metadata": {},
     "output_type": "execute_result"
    }
   ],
   "source": [
    "# n_neighbor를 전체 데이터 수로 설정해보자.\n",
    "kn49 = KNeighborsClassifier(n_neighbors=49)\n",
    "kn49.fit(fish_data, target)\n",
    "kn49.score(fish_data, target)"
   ]
  },
  {
   "cell_type": "markdown",
   "id": "df4c7ba4",
   "metadata": {},
   "source": [
    "n_neighbor를 전체 데이터 수로 설정하면,\n",
    "* 도미, 빙어가 35, 14마리이므로 무조건 도미가 많기 때문에 도미로 예측해준다. 따라서 정확도는 도미 수만큼만 될것이다."
   ]
  },
  {
   "cell_type": "code",
   "execution_count": 23,
   "id": "ffee16f8",
   "metadata": {},
   "outputs": [
    {
     "data": {
      "text/plain": [
       "0.7142857142857143"
      ]
     },
     "execution_count": 23,
     "metadata": {},
     "output_type": "execute_result"
    }
   ],
   "source": [
    "# 도미 수 / 전체\n",
    "35/49"
   ]
  },
  {
   "cell_type": "code",
   "execution_count": null,
   "id": "80b6662b",
   "metadata": {},
   "outputs": [],
   "source": []
  },
  {
   "cell_type": "markdown",
   "id": "ef93ed24",
   "metadata": {},
   "source": [
    "## 코딩 문제\n",
    "n_neighbors의 기본값이 5부터 49까지 바꾸어 가면서 정확도가 1.0 아래로 떨어지는 이웃의 갯수를 찾아보자.\n",
    "\n",
    "**Tip**\n",
    "* k-최근접 이웃알고리즘은 학습하는데 모델을 만드는게 아니라 데이터를 저장하는게 전부기 때문에 객체를 매번 새로 설정할 필요가 없다. 단지 속성만 바꾸면 된다."
   ]
  },
  {
   "cell_type": "code",
   "execution_count": 25,
   "id": "0f0d7c5d",
   "metadata": {},
   "outputs": [
    {
     "name": "stdout",
     "output_type": "stream",
     "text": [
      "neighbor :18, acc.: 0.9795918367346939\n"
     ]
    }
   ],
   "source": [
    "model = KNeighborsClassifier()\n",
    "model.fit(fish_data, target)\n",
    "\n",
    "for n in range(5, 50):\n",
    "    # 이웃 개수 설정\n",
    "    model.n_neighbors = n\n",
    "    score = model.score(fish_data, target)\n",
    "    if score < 1:\n",
    "        print(f'neighbor :{n}, acc.: {score}')\n",
    "        break"
   ]
  },
  {
   "cell_type": "code",
   "execution_count": null,
   "id": "2e27241f",
   "metadata": {},
   "outputs": [],
   "source": []
  }
 ],
 "metadata": {
  "kernelspec": {
   "display_name": "Python 3 (ipykernel)",
   "language": "python",
   "name": "python3"
  },
  "language_info": {
   "codemirror_mode": {
    "name": "ipython",
    "version": 3
   },
   "file_extension": ".py",
   "mimetype": "text/x-python",
   "name": "python",
   "nbconvert_exporter": "python",
   "pygments_lexer": "ipython3",
   "version": "3.8.12"
  }
 },
 "nbformat": 4,
 "nbformat_minor": 5
}
