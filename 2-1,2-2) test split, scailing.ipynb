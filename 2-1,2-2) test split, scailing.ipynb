{
 "cells": [
  {
   "cell_type": "markdown",
   "id": "750363db",
   "metadata": {},
   "source": [
    "# 간단한 머신러닝 제작2\n",
    "* train / test set split\n",
    "  * \"샘플링 편향\" : 훈련 세트와 테스트 세트에 샘플이 골고루 섞여 있어야 함. 한쪽으로 치우친 경우를 의미.\n",
    "  * 샘플링 편향을 없애는 데이터 분리가 필요하며 셔플에는 두가지 방법이 있다.\n",
    "      * `random.shuffle`을 이용한 방법\n",
    "      * `train_test_split()` 를 이용한 방법 (추천)\n",
    "* 데이터 전처리 - scailing 의 이유\n",
    "  * `np.column_stack()`, `np.concatenate()`\n",
    "  * `train_test_split()`\n",
    "  * `np.mean()`, `np.std()`로 표준화처리"
   ]
  },
  {
   "cell_type": "markdown",
   "id": "ef66be9f",
   "metadata": {},
   "source": [
    "## 1. 데이터셋 분리"
   ]
  },
  {
   "cell_type": "code",
   "execution_count": 2,
   "id": "ef6648d3",
   "metadata": {},
   "outputs": [],
   "source": [
    "fish_length = [25.4, 26.3, 26.5, 29.0, 29.0, 29.7, 29.7, 30.0, 30.0, 30.7, 31.0, 31.0, \n",
    "                31.5, 32.0, 32.0, 32.0, 33.0, 33.0, 33.5, 33.5, 34.0, 34.0, 34.5, 35.0, \n",
    "                35.0, 35.0, 35.0, 36.0, 36.0, 37.0, 38.5, 38.5, 39.5, 41.0, 41.0, 9.8, \n",
    "                10.5, 10.6, 11.0, 11.2, 11.3, 11.8, 11.8, 12.0, 12.2, 12.4, 13.0, 14.3, 15.0]\n",
    "fish_weight = [242.0, 290.0, 340.0, 363.0, 430.0, 450.0, 500.0, 390.0, 450.0, 500.0, 475.0, 500.0, \n",
    "                500.0, 340.0, 600.0, 600.0, 700.0, 700.0, 610.0, 650.0, 575.0, 685.0, 620.0, 680.0, \n",
    "                700.0, 725.0, 720.0, 714.0, 850.0, 1000.0, 920.0, 955.0, 925.0, 975.0, 950.0, 6.7, \n",
    "                7.5, 7.0, 9.7, 9.8, 8.7, 10.0, 9.9, 9.8, 12.2, 13.4, 12.2, 19.7, 19.9]\n",
    "\n",
    "fish_data = [[l, w] for l, w in zip(fish_length, fish_weight)]\n",
    "fish_target = [1]*35 + [0]*14"
   ]
  },
  {
   "cell_type": "code",
   "execution_count": 3,
   "id": "c65f60f0",
   "metadata": {},
   "outputs": [],
   "source": [
    "import numpy as np"
   ]
  },
  {
   "cell_type": "code",
   "execution_count": 47,
   "id": "39fb855a",
   "metadata": {},
   "outputs": [
    {
     "data": {
      "text/plain": [
       "((49, 2), (49,))"
      ]
     },
     "execution_count": 47,
     "metadata": {},
     "output_type": "execute_result"
    }
   ],
   "source": [
    "# 앞의 예제와는 다르게 처음부터 np로 변형하여 다뤄본다.\n",
    "input_arr = np.array(fish_data)\n",
    "target_arr = np.array(fish_target)\n",
    "input_arr.shape, target_arr.shape"
   ]
  },
  {
   "cell_type": "code",
   "execution_count": 8,
   "id": "3b5c5ab7",
   "metadata": {},
   "outputs": [
    {
     "data": {
      "text/plain": [
       "array([13, 45, 47, 44, 17, 27, 26, 25, 31, 19, 12,  4, 34,  8,  3,  6, 40,\n",
       "       41, 46, 15,  9, 16, 24, 33, 30,  0, 43, 32,  5, 29, 11, 36,  1, 21,\n",
       "        2, 37, 35, 23, 39, 10, 22, 18, 48, 20,  7, 42, 14, 28, 38])"
      ]
     },
     "execution_count": 8,
     "metadata": {},
     "output_type": "execute_result"
    }
   ],
   "source": [
    "# 샘플을 무작위 셔플을 하기위한 방법1. - np.random.shuffle(list) (두 번째 방법이 더 낫긴하다)\n",
    "np.random.seed(42)    # 실험의 재현성\n",
    "index = np.arange(49)\n",
    "np.random.shuffle(index)  # 재 할당 필요없음\n",
    "index"
   ]
  },
  {
   "cell_type": "code",
   "execution_count": 9,
   "id": "b3fa9fed",
   "metadata": {},
   "outputs": [
    {
     "data": {
      "text/plain": [
       "((35, 2), (14, 2))"
      ]
     },
     "execution_count": 9,
     "metadata": {},
     "output_type": "execute_result"
    }
   ],
   "source": [
    "train_input = input_arr[index[:35]]\n",
    "train_target = target_arr[index[:35]]\n",
    "test_input = input_arr[index[35:]]\n",
    "test_target = target_arr[index[35:]]\n",
    "train_input.shape, test_input.shape"
   ]
  },
  {
   "cell_type": "code",
   "execution_count": 11,
   "id": "52b87605",
   "metadata": {},
   "outputs": [
    {
     "data": {
      "image/png": "[encoded data removed]",
      "text/plain": [
       "<Figure size 432x288 with 1 Axes>"
      ]
     },
     "metadata": {
      "needs_background": "light"
     },
     "output_type": "display_data"
    }
   ],
   "source": [
    "# 샘플이 골고루 섞였는지 확인.\n",
    "import matplotlib.pyplot as plt\n",
    "\n",
    "plt.scatter(train_input[:, 0], train_input[:, 1])\n",
    "plt.scatter(test_input[:, 0], test_input[:, 1])\n",
    "plt.xlabel(\"length\")\n",
    "plt.ylabel(\"weight\")\n",
    "plt.show()"
   ]
  },
  {
   "cell_type": "code",
   "execution_count": 12,
   "id": "f9d5a5c7",
   "metadata": {},
   "outputs": [
    {
     "data": {
      "text/plain": [
       "1.0"
      ]
     },
     "execution_count": 12,
     "metadata": {},
     "output_type": "execute_result"
    }
   ],
   "source": [
    "# 머신러닝\n",
    "from sklearn.neighbors import KNeighborsClassifier\n",
    "\n",
    "model = KNeighborsClassifier()\n",
    "model.fit(train_input, train_target)\n",
    "model.score(test_input, test_target)"
   ]
  },
  {
   "cell_type": "code",
   "execution_count": 13,
   "id": "6d27c1f9",
   "metadata": {},
   "outputs": [
    {
     "data": {
      "text/plain": [
       "array([0, 0, 1, 0, 1, 1, 1, 0, 1, 1, 0, 1, 1, 0])"
      ]
     },
     "execution_count": 13,
     "metadata": {},
     "output_type": "execute_result"
    }
   ],
   "source": [
    "model.predict(test_input)"
   ]
  },
  {
   "cell_type": "code",
   "execution_count": 14,
   "id": "84f99b9d",
   "metadata": {},
   "outputs": [
    {
     "data": {
      "text/plain": [
       "array([0, 0, 1, 0, 1, 1, 1, 0, 1, 1, 0, 1, 1, 0])"
      ]
     },
     "execution_count": 14,
     "metadata": {},
     "output_type": "execute_result"
    }
   ],
   "source": [
    "test_target"
   ]
  },
  {
   "cell_type": "markdown",
   "id": "7eb6cab9",
   "metadata": {},
   "source": [
    "**scikit-learn의 input과 output은 모두 numpy 배열이다.**"
   ]
  },
  {
   "cell_type": "markdown",
   "id": "5429397c",
   "metadata": {},
   "source": [
    "### Tip. np.random.shuffle api\n",
    "* return이 필요없다.\n",
    "* 주어진 배열(리스트)를 랜덤하게 섞는다. 다차원 배열의 경우는 맨 첫번째 차원에 대해서만 섞는다."
   ]
  },
  {
   "cell_type": "code",
   "execution_count": 15,
   "id": "6729624b",
   "metadata": {},
   "outputs": [
    {
     "data": {
      "text/plain": [
       "array([[5, 6],\n",
       "       [1, 2],\n",
       "       [3, 4]])"
      ]
     },
     "execution_count": 15,
     "metadata": {},
     "output_type": "execute_result"
    }
   ],
   "source": [
    "a = np.array([[1,2],[3,4], [5,6]])\n",
    "np.random.shuffle(a)\n",
    "a"
   ]
  },
  {
   "cell_type": "code",
   "execution_count": null,
   "id": "7d968a4f",
   "metadata": {},
   "outputs": [],
   "source": []
  },
  {
   "cell_type": "markdown",
   "id": "b44747d3",
   "metadata": {},
   "source": [
    "## 2. 데이터 전처리\n",
    "위에서 만든 모델에서 특정 데이터를 넣으면 생각치도 못한 잘못된 분류 예측을 해줌 - scaling의 문제."
   ]
  },
  {
   "cell_type": "code",
   "execution_count": 18,
   "id": "0399686e",
   "metadata": {},
   "outputs": [],
   "source": [
    "fish_length = [25.4, 26.3, 26.5, 29.0, 29.0, 29.7, 29.7, 30.0, 30.0, 30.7, 31.0, 31.0, \n",
    "                31.5, 32.0, 32.0, 32.0, 33.0, 33.0, 33.5, 33.5, 34.0, 34.0, 34.5, 35.0, \n",
    "                35.0, 35.0, 35.0, 36.0, 36.0, 37.0, 38.5, 38.5, 39.5, 41.0, 41.0, 9.8, \n",
    "                10.5, 10.6, 11.0, 11.2, 11.3, 11.8, 11.8, 12.0, 12.2, 12.4, 13.0, 14.3, 15.0]\n",
    "fish_weight = [242.0, 290.0, 340.0, 363.0, 430.0, 450.0, 500.0, 390.0, 450.0, 500.0, 475.0, 500.0, \n",
    "                500.0, 340.0, 600.0, 600.0, 700.0, 700.0, 610.0, 650.0, 575.0, 685.0, 620.0, 680.0, \n",
    "                700.0, 725.0, 720.0, 714.0, 850.0, 1000.0, 920.0, 955.0, 925.0, 975.0, 950.0, 6.7, \n",
    "                7.5, 7.0, 9.7, 9.8, 8.7, 10.0, 9.9, 9.8, 12.2, 13.4, 12.2, 19.7, 19.9]"
   ]
  },
  {
   "cell_type": "code",
   "execution_count": 19,
   "id": "9f843f48",
   "metadata": {},
   "outputs": [],
   "source": [
    "import numpy as np"
   ]
  },
  {
   "cell_type": "code",
   "execution_count": 22,
   "id": "cdaef547",
   "metadata": {},
   "outputs": [
    {
     "data": {
      "text/plain": [
       "array([[ 25.4, 242. ],\n",
       "       [ 26.3, 290. ],\n",
       "       [ 26.5, 340. ],\n",
       "       [ 29. , 363. ],\n",
       "       [ 29. , 430. ]])"
      ]
     },
     "execution_count": 22,
     "metadata": {},
     "output_type": "execute_result"
    }
   ],
   "source": [
    "# np.column_stack([list1, list2])\n",
    "# : 전달받은 리스트를 일렬로 세워 concat\n",
    "# [[a, b] for a, b in zip(list1, list2)]\n",
    "fish_data = np.column_stack([fish_length, fish_weight])\n",
    "fish_data[:5]"
   ]
  },
  {
   "cell_type": "code",
   "execution_count": 24,
   "id": "6fe53627",
   "metadata": {},
   "outputs": [
    {
     "data": {
      "text/plain": [
       "array([1., 1., 1., 1., 1.])"
      ]
     },
     "execution_count": 24,
     "metadata": {},
     "output_type": "execute_result"
    }
   ],
   "source": [
    "fish_target = np.concatenate([np.ones(35), np.zeros(14)])\n",
    "fish_target[:5]"
   ]
  },
  {
   "cell_type": "code",
   "execution_count": 25,
   "id": "260abc8a",
   "metadata": {},
   "outputs": [],
   "source": [
    "# train_test_split()을 사용한 data split\n",
    "\n",
    "from sklearn.model_selection import train_test_split\n",
    "\n",
    "train_input, test_input, train_target, test_target = train_test_split(\n",
    "    fish_data,\n",
    "    fish_target,\n",
    "    random_state=42,\n",
    "    shuffle=True,    # default=True\n",
    "    stratify=fish_target,  # stratify는 정답 라벨을 준다.\n",
    ")"
   ]
  },
  {
   "cell_type": "markdown",
   "id": "832ea184",
   "metadata": {},
   "source": [
    "### 모델 생성\n",
    "#### 수상한 도미 한 마리"
   ]
  },
  {
   "cell_type": "code",
   "execution_count": 26,
   "id": "364b410b",
   "metadata": {},
   "outputs": [
    {
     "data": {
      "text/plain": [
       "1.0"
      ]
     },
     "execution_count": 26,
     "metadata": {},
     "output_type": "execute_result"
    }
   ],
   "source": [
    "from sklearn.neighbors import KNeighborsClassifier\n",
    "model = KNeighborsClassifier()\n",
    "model.fit(train_input, train_target)\n",
    "model.score(test_input, test_target)"
   ]
  },
  {
   "cell_type": "markdown",
   "id": "a802a9a6",
   "metadata": {},
   "source": [
    "**도미(1) 한 마리를 넣어본다.**"
   ]
  },
  {
   "cell_type": "code",
   "execution_count": 28,
   "id": "4a86a435",
   "metadata": {},
   "outputs": [
    {
     "data": {
      "text/plain": [
       "array([0.])"
      ]
     },
     "execution_count": 28,
     "metadata": {},
     "output_type": "execute_result"
    }
   ],
   "source": [
    "# [[25, 150]]은 도미임. 즉 1라벨\n",
    "model.predict([[25, 150]])"
   ]
  },
  {
   "cell_type": "code",
   "execution_count": 29,
   "id": "dabf4688",
   "metadata": {},
   "outputs": [
    {
     "data": {
      "image/png": "[encoded data removed]",
      "text/plain": [
       "<Figure size 432x288 with 1 Axes>"
      ]
     },
     "metadata": {
      "needs_background": "light"
     },
     "output_type": "display_data"
    }
   ],
   "source": [
    "import matplotlib.pyplot as plt\n",
    "\n",
    "plt.scatter(train_input[:,0], train_input[:,1])\n",
    "plt.scatter(25, 150, marker='^')\n",
    "plt.xlabel('length')\n",
    "plt.ylabel('weight')\n",
    "plt.show()"
   ]
  },
  {
   "cell_type": "markdown",
   "id": "5acc3998",
   "metadata": {},
   "source": [
    "분명 도미(1)에 가까운데 빙어(0)으로 예측 됨."
   ]
  },
  {
   "cell_type": "code",
   "execution_count": 31,
   "id": "dcf17d31",
   "metadata": {},
   "outputs": [
    {
     "data": {
      "text/plain": [
       "(array([[ 92.00086956, 130.48375378, 130.73859415, 138.32150953,\n",
       "         138.39320793]]),\n",
       " array([[21, 33, 19, 30,  1]]))"
      ]
     },
     "execution_count": 31,
     "metadata": {},
     "output_type": "execute_result"
    }
   ],
   "source": [
    "# KNeighborsClassifier.kneighbors() 메서드\n",
    "# : 샘플에서 가장 가까운 이웃을 찾아줌\n",
    "\n",
    "distances, indexes = model.kneighbors([[25, 150]])\n",
    "distances, indexes"
   ]
  },
  {
   "cell_type": "code",
   "execution_count": 32,
   "id": "df76f52f",
   "metadata": {},
   "outputs": [
    {
     "data": {
      "image/png": "[encoded data removed]",
      "text/plain": [
       "<Figure size 432x288 with 1 Axes>"
      ]
     },
     "metadata": {
      "needs_background": "light"
     },
     "output_type": "display_data"
    }
   ],
   "source": [
    "plt.scatter(train_input[:,0], train_input[:,1])\n",
    "plt.scatter(25, 150, marker='^')\n",
    "plt.scatter(train_input[indexes, 0], train_input[indexes,1])\n",
    "plt.xlabel('length')\n",
    "plt.ylabel('weight')\n",
    "plt.show()"
   ]
  },
  {
   "cell_type": "markdown",
   "id": "871f2920",
   "metadata": {},
   "source": [
    "* 샘플에서 가장 가까운 샘플도 빙어가 4마리였다. \n",
    "* 원인은 distances에 들어간 거리를 보고 확인이 가능한데, 거리가 5샘플이 대부분 비슷한데 plot에서는 멀어 보인다. 즉, scale의 문제였다. x축은 범위가 좁고, y축은 범위가  넓어서 y축으로 조금만 멀어져도 거리가 아주 큰 값으로 계산된다."
   ]
  },
  {
   "cell_type": "code",
   "execution_count": 33,
   "id": "e8493e2d",
   "metadata": {},
   "outputs": [
    {
     "data": {
      "image/png": "[encoded data removed]",
      "text/plain": [
       "<Figure size 432x288 with 1 Axes>"
      ]
     },
     "metadata": {
      "needs_background": "light"
     },
     "output_type": "display_data"
    }
   ],
   "source": [
    "# xlim을 통해 정사각형으로 맞추면 스케일 문제가 확연해진다.\n",
    "plt.scatter(train_input[:,0], train_input[:,1])\n",
    "plt.scatter(25, 150, marker='^')\n",
    "plt.scatter(train_input[indexes,0], train_input[indexes,1], marker='D')\n",
    "plt.xlim((0, 1000))\n",
    "plt.xlabel('length')\n",
    "plt.ylabel('weight')\n",
    "plt.show()"
   ]
  },
  {
   "cell_type": "markdown",
   "id": "37ecd85f",
   "metadata": {},
   "source": [
    "**scaling은 ML에서 필수이며 알고리즘이 거리기반일 때는 특히 영향을 더 받는다.**"
   ]
  },
  {
   "cell_type": "code",
   "execution_count": 37,
   "id": "9a64c516",
   "metadata": {},
   "outputs": [
    {
     "data": {
      "text/plain": [
       "(array([ 27.29722222, 454.09722222]), array([ 10.52687741, 327.37247465]))"
      ]
     },
     "execution_count": 37,
     "metadata": {},
     "output_type": "execute_result"
    }
   ],
   "source": [
    "# scaling 방법 - 표준화\n",
    "# np.mean(), np.std()는 axis를 주지 않으면 차원을 통틀어 계산해준다.\n",
    "# axis를 주어 차원별로 계산 가능하다.\n",
    "mean = np.mean(train_input, axis=0)\n",
    "std = np.std(test_input, axis=0)\n",
    "mean, std"
   ]
  },
  {
   "cell_type": "code",
   "execution_count": 42,
   "id": "beb0c277",
   "metadata": {},
   "outputs": [
    {
     "name": "stdout",
     "output_type": "stream",
     "text": [
      "[-0.21822447 -0.92890284]\n"
     ]
    },
    {
     "data": {
      "image/png": "[encoded data removed]",
      "text/plain": [
       "<Figure size 432x288 with 1 Axes>"
      ]
     },
     "metadata": {
      "needs_background": "light"
     },
     "output_type": "display_data"
    }
   ],
   "source": [
    "# test 데이터의 표준화는 train의 파라미터로 진행해야한다.\n",
    "train_scaled = (train_input - mean) / std\n",
    "new = ([25, 150] - mean) / std\n",
    "print(new)\n",
    "\n",
    "plt.scatter(train_scaled[:,0], train_scaled[:,1])\n",
    "plt.scatter(new[0], new[1], marker='^')\n",
    "plt.xlabel('length')\n",
    "plt.ylabel('weight')\n",
    "plt.show()"
   ]
  },
  {
   "cell_type": "code",
   "execution_count": 40,
   "id": "206dc1bd",
   "metadata": {},
   "outputs": [
    {
     "data": {
      "text/plain": [
       "1.0"
      ]
     },
     "execution_count": 40,
     "metadata": {},
     "output_type": "execute_result"
    }
   ],
   "source": [
    "model.fit(train_scaled, train_target)\n",
    "\n",
    "# train 파라미터로 스케일링! 필수\n",
    "test_scaled = (test_input - mean) / std\n",
    "model.score(test_scaled, test_target)"
   ]
  },
  {
   "cell_type": "code",
   "execution_count": 43,
   "id": "0e40b73e",
   "metadata": {},
   "outputs": [
    {
     "data": {
      "text/plain": [
       "array([1.])"
      ]
     },
     "execution_count": 43,
     "metadata": {},
     "output_type": "execute_result"
    }
   ],
   "source": [
    "model.predict([new])"
   ]
  },
  {
   "cell_type": "code",
   "execution_count": 46,
   "id": "b9dfd969",
   "metadata": {},
   "outputs": [
    {
     "data": {
      "image/png": "[encoded data removed]",
      "text/plain": [
       "<Figure size 432x288 with 1 Axes>"
      ]
     },
     "metadata": {
      "needs_background": "light"
     },
     "output_type": "display_data"
    }
   ],
   "source": [
    "distances, indexes = model.kneighbors([new])\n",
    "\n",
    "plt.scatter(train_scaled[:, 0], train_scaled[:, 1])\n",
    "plt.scatter(new[0], new[1], marker='^')\n",
    "plt.scatter(train_scaled[indexes, 0], train_scaled[indexes, 1])\n",
    "plt.show()"
   ]
  },
  {
   "cell_type": "markdown",
   "id": "b02828d5",
   "metadata": {},
   "source": [
    "scailing으로 두 변수의 거리를 같게 해줬기 때문에 이제 올바른 neighbors를 확인할 수 있다."
   ]
  },
  {
   "cell_type": "code",
   "execution_count": null,
   "id": "ca8cf098",
   "metadata": {},
   "outputs": [],
   "source": []
  }
 ],
 "metadata": {
  "kernelspec": {
   "display_name": "Python 3 (ipykernel)",
   "language": "python",
   "name": "python3"
  },
  "language_info": {
   "codemirror_mode": {
    "name": "ipython",
    "version": 3
   },
   "file_extension": ".py",
   "mimetype": "text/x-python",
   "name": "python",
   "nbconvert_exporter": "python",
   "pygments_lexer": "ipython3",
   "version": "3.8.12"
  }
 },
 "nbformat": 4,
 "nbformat_minor": 5
}
